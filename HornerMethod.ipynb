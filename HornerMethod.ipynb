{
 "cells": [
  {
   "cell_type": "markdown",
   "metadata": {},
   "source": [
    "Python program for\n",
    "implementation of Horner Method\n",
    "for Polynomial Evaluation"
   ]
  },
  {
   "cell_type": "code",
   "execution_count": 7,
   "metadata": {},
   "outputs": [],
   "source": [
    "import numpy as np\n",
    "import matplotlib.pyplot as plt"
   ]
  },
  {
   "cell_type": "code",
   "execution_count": 8,
   "metadata": {},
   "outputs": [],
   "source": [
    "def horner_method(poly, n, x0):\n",
    "    # Step 1 (initialization by An)\n",
    "    result = poly[0]\n",
    "\n",
    "    # Step 2\n",
    "    for j in range(1, n - 1):\n",
    "        result = x0 * result + poly[j]  # Compute Bj\n",
    "\n",
    "    # Step 3\n",
    "    result = x0 * result + poly[n - 1]  # Compute B0\n",
    "\n",
    "    # Step 4\n",
    "    return result"
   ]
  },
  {
   "cell_type": "code",
   "execution_count": 9,
   "metadata": {},
   "outputs": [
    {
     "name": "stdout",
     "output_type": "stream",
     "text": [
      "Please enter the degree of the polynomial: 4\n"
     ]
    }
   ],
   "source": [
    "# Main\n",
    "\n",
    "while True:\n",
    "    try:\n",
    "        n = int(input(\"Please enter the degree of the polynomial: \"))  # polynomial degree\n",
    "        break\n",
    "    except ValueError:\n",
    "        print(\"Please enter only integer\")\n",
    "\n",
    "n += 1  # We add 1 for a0"
   ]
  },
  {
   "cell_type": "code",
   "execution_count": 10,
   "metadata": {},
   "outputs": [
    {
     "name": "stdout",
     "output_type": "stream",
     "text": [
      "a4: 2\n",
      "a3: 0\n",
      "a2: -3\n",
      "a1: 3\n",
      "a0: -4\n"
     ]
    }
   ],
   "source": [
    "poly = []\n",
    "\n",
    "\n",
    "for i in range(n, 0, -1):\n",
    "    while True:\n",
    "        try:\n",
    "            poly.append(float(input(f\"a{i - 1}: \")))\n",
    "            break\n",
    "        except ValueError:\n",
    "            print(\"Please enter only float number\")"
   ]
  },
  {
   "cell_type": "code",
   "execution_count": 11,
   "metadata": {},
   "outputs": [
    {
     "name": "stdout",
     "output_type": "stream",
     "text": [
      "Please enter x0: -2\n"
     ]
    }
   ],
   "source": [
    "while True:\n",
    "    try:\n",
    "        x0 = float(input(\"Please enter x0: \"))\n",
    "        break\n",
    "    except ValueError:\n",
    "        print(\"Please enter only float number for x0\")"
   ]
  },
  {
   "cell_type": "code",
   "execution_count": 12,
   "metadata": {},
   "outputs": [
    {
     "name": "stdout",
     "output_type": "stream",
     "text": [
      "Value of polynomial is: 10.0\n"
     ]
    }
   ],
   "source": [
    "ans = horner_method(poly, n, x0)\n",
    "print(f\"Value of polynomial is: {ans}\")"
   ]
  },
  {
   "cell_type": "code",
   "execution_count": 17,
   "metadata": {},
   "outputs": [],
   "source": [
    "p = np.poly1d(poly)\n",
    "Annotation = 0.05\n",
    "\n",
    "if abs(x0) < 2:\n",
    "    x = np.arange(-abs((x0*1.25)+5), abs((x0*1.25)+5) + Annotation, Annotation)\n",
    "else:\n",
    "    x = np.arange(-abs(x0 * 1.25), abs(x0 * 1.25) + Annotation, Annotation)"
   ]
  },
  {
   "cell_type": "markdown",
   "metadata": {},
   "source": [
    "Displaying the polynomial in the desired x0 region"
   ]
  },
  {
   "cell_type": "code",
   "execution_count": 18,
   "metadata": {},
   "outputs": [
    {
     "data": {
      "image/png": "[encoded data removed]",
      "text/plain": [
       "<Figure size 432x288 with 1 Axes>"
      ]
     },
     "metadata": {
      "needs_background": "light"
     },
     "output_type": "display_data"
    }
   ],
   "source": [
    "# the function\n",
    "y = p(x)\n",
    "\n",
    "# setting the axes\n",
    "fig = plt.figure()\n",
    "ax = fig.add_subplot(1, 1, 1)\n",
    "ax.spines['left'].set_position('zero')\n",
    "ax.spines['bottom'].set_position('zero')\n",
    "ax.spines['right'].set_color('none')\n",
    "ax.spines['top'].set_color('none')\n",
    "ax.xaxis.set_ticks_position('bottom')\n",
    "ax.yaxis.set_ticks_position('left')\n",
    "\n",
    "# plot the function (r == red)\n",
    "plt.plot(x, y, 'r')\n",
    "plt.plot(x0, ans, 'bo')\n",
    "plt.annotate(f'({x0},{ans})', xy=(x0, ans), xytext=(x0+Annotation, ans+Annotation))\n",
    "\n",
    "# show the plot\n",
    "plt.show()"
   ]
  }
 ],
 "metadata": {
  "kernelspec": {
   "display_name": "Python 3",
   "language": "python",
   "name": "python3"
  },
  "language_info": {
   "codemirror_mode": {
    "name": "ipython",
    "version": 3
   },
   "file_extension": ".py",
   "mimetype": "text/x-python",
   "name": "python",
   "nbconvert_exporter": "python",
   "pygments_lexer": "ipython3",
   "version": "3.7.7"
  }
 },
 "nbformat": 4,
 "nbformat_minor": 4
}
